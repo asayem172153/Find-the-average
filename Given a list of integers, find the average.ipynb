{
  "nbformat": 4,
  "nbformat_minor": 0,
  "metadata": {
    "colab": {
      "provenance": []
    },
    "kernelspec": {
      "name": "python3",
      "display_name": "Python 3"
    },
    "language_info": {
      "name": "python"
    }
  },
  "cells": [
    {
      "cell_type": "code",
      "execution_count": 2,
      "metadata": {
        "colab": {
          "base_uri": "https://localhost:8080/"
        },
        "id": "a2L1zUpimD4e",
        "outputId": "0ebeae6b-2a01-45e0-c648-666957e32c2a"
      },
      "outputs": [
        {
          "output_type": "stream",
          "name": "stdout",
          "text": [
            "Avg of given List is 3.0\n"
          ]
        }
      ],
      "source": [
        "lst = [1, 2, 3, 4, 5]\n",
        "summ = 0\n",
        "\n",
        "for i in lst:\n",
        "  summ += i\n",
        "\n",
        "avg = summ / len(lst)\n",
        "\n",
        "print('Avg of given List is',avg)"
      ]
    },
    {
      "cell_type": "markdown",
      "source": [
        "**Another Approach using sum()**"
      ],
      "metadata": {
        "id": "Q5Zuz4FYm3_U"
      }
    },
    {
      "cell_type": "code",
      "source": [
        "lst = [1, 2, 3, 4, 5]\n",
        "\n",
        "avg = sum(lst) / len(lst)\n",
        "\n",
        "print('Avg of given List is', avg)"
      ],
      "metadata": {
        "colab": {
          "base_uri": "https://localhost:8080/"
        },
        "id": "9wzdrkXRnBnA",
        "outputId": "7f00ff77-1c27-47c3-c06d-092ba6b2b627"
      },
      "execution_count": 4,
      "outputs": [
        {
          "output_type": "stream",
          "name": "stdout",
          "text": [
            "Avg of given List is 3.0\n"
          ]
        }
      ]
    }
  ]
}